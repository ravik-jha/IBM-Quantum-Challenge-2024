{
 "cells": [
  {
   "cell_type": "markdown",
   "id": "ec4a8c97-b275-407f-b18b-132f5b0f683b",
   "metadata": {},
   "source": [
    "# Lab 0: Welcome and Hello World"
   ]
  },
  {
   "cell_type": "markdown",
   "id": "ef1ea97a-8f27-42e1-a79a-115b4a7af870",
   "metadata": {},
   "source": [
    "# Table of Contents\n",
    "\n",
    "* [Welcome to the 2024 IBM Quantum Challenge](#welcome)\n",
    "  * [Lab 0 overview](#overview)\n",
    "  * [Install Qiskit](#install)\n",
    "  * [Troubleshoot](#troubleshoot)\n",
    "  * [Configure your Challenge environment](#configure)\n",
    "* [Generate a two-qubit Bell state using Qiskit patterns](#generate)\n",
    "  * [Step 1: Map circuits and operators](#step-1)\n",
    "    * [Exercise 1](#ex-1)\n",
    "    * [The grader cell](#grader)\n",
    "  * [Step 2: Optimize the circuit](#step-2)\n",
    "  * [Step 3: Execute the circuit](#step-3)\n",
    "  * [Step 4: Post-process the results](#step-4)\n",
    "* [Congratulations](#congrats)"
   ]
  },
  {
   "cell_type": "markdown",
   "id": "62bcf581-daac-40b7-aef7-025ab04ee66b",
   "metadata": {},
   "source": [
    "\n",
    "# Welcome to the 2024 IBM Quantum Challenge! <a name=\"welcome\"></a>\n",
    "\n",
    "We're thrilled that you're joining us for this event. This year's Quantum Challenge is designed to highlight **Qiskit SDK v1.0**, which IBM released earlier this year. Returning participants may notice some differences between this year's Challenge and its predecessors. While the setting may be different, the overall structure remains the same. As always, this year's challenge consists of a series of \"labs\" — Jupyter Notebooks specially designed to get you working through problems just like a real quantum computational scientist.\n",
    "\n",
    "Each of these lab notebooks focuses on a different topic and build upon the previous learning. This first lab is meant for anyone to complete, even beginners, but later labs are much more difficult. This is, after all, a *Challenge*. Most participants will need to do some outside research or use a bit of trial-and-error to finish the code challenges presented in the more advanced labs. Don't give up! We know you can do it.\n",
    "\n",
    "In each lab, you will find links to documentation, tutorials, and other helpful resources you might need to solve that particular problem. You can also find most of these resources on IBM's new home for quantum education: [IBM Quantum Learning](https://learning.quantum.ibm.com/). We hope you'll take some time to explore it. We are especially proud of the series of courses featured there.\n",
    "\n",
    "If you ever get lost, remember you can find the home of this year's [Quantum Challenge here](https://challenges.quantum.ibm.com/2024). Each time you complete a Challenge lab, you'll find your progress reflected there.\n"
   ]
  },
  {
   "cell_type": "markdown",
   "id": "0e065172-6cfa-4a21-9964-962e85dbb8ce",
   "metadata": {},
   "source": [
    "## Lab 0 overview <a name=\"overview\"></a>\n",
    "\n",
    "In this lab, we'll focus on teaching you how to use these challenge notebooks, how to grade your work, and how to manage the general flow of setting up, running, and evaluating the results of your quantum code.\n",
    "\n",
    "To complete this and the other labs, you'll need to know a little bit about the Python programming language. Each lab contains a mixture of tutorial content, pre-written code blocks, and challenge code blocks that require you to fill in your own [Qiskit code](https://www.ibm.com/quantum/qiskit). To complete an exercise, you'll need to type the required code underneath each line that has the `## Write your code below here ##` comment.\n",
    "\n",
    "It's important to note that you should **run each code cell**, even if you didn't write any new code there. This ensures that when you submit your answers later on, everything is up to date. There will be one or two exceptions to this rule, depending on what type of computer you are using."
   ]
  },
  {
   "cell_type": "markdown",
   "id": "d5fdaf1c-1455-4741-886c-35cfafd9f296",
   "metadata": {},
   "source": [
    "Even though these cells cover the majority of places you might be running this notebook, it's impossible to capture every possible scenario. Some of you may have gotten a warning asking you to use `%pip` instead of `%pip` - if that's the case, just make sure to make those changes for all future installs.\n",
    "\n",
    "Now, let's test to make sure everything is working properly. We've provided some very basic Qiskit code for you in the following cell. This code will create a quantum circuit, apply a single gate, and then draw that circuit. Run the cell below to make sure your system is set up properly."
   ]
  },
  {
   "cell_type": "code",
   "execution_count": 3,
   "id": "d76ad638-0b30-4e6e-b665-b31e81211ca9",
   "metadata": {},
   "outputs": [
    {
     "data": {
      "image/png": "[encoded data removed]",
      "text/plain": [
       "<Figure size 185.453x117.056 with 1 Axes>"
      ]
     },
     "execution_count": 3,
     "metadata": {},
     "output_type": "execute_result"
    }
   ],
   "source": [
    "from qiskit import QuantumCircuit\n",
    "\n",
    "qc = QuantumCircuit(1)    # Create a new circuit with a single qubit\n",
    "qc.x(0)                   # Add a Not gate to qubit 0\n",
    "qc.draw(\"mpl\")"
   ]
  },
  {
   "cell_type": "code",
   "execution_count": 4,
   "id": "94d8a911-7ff1-4c1e-80a8-6463411971bf",
   "metadata": {},
   "outputs": [],
   "source": [
    "#!pip install git+https://github.com/qiskit-community/Quantum-Challenge-Grader.git"
   ]
  },
  {
   "cell_type": "code",
   "execution_count": 5,
   "id": "33c044ef-2bb3-4da0-bb5a-2147de9dac6e",
   "metadata": {},
   "outputs": [],
   "source": [
    "### CHECK OTHER DEPENDENCIES\n",
    "#!pip show pylatexenc matplotlib qc_grader"
   ]
  },
  {
   "cell_type": "code",
   "execution_count": 1,
   "id": "fb6fa047-4fe1-4d74-8e45-6ade32dd20a2",
   "metadata": {},
   "outputs": [
    {
     "name": "stdout",
     "output_type": "stream",
     "text": [
      "env: QXToken=\n"
     ]
    }
   ],
   "source": [
    "# Save your API token to track your progress\n",
    "\n",
    "%set_env QXToken="
   ]
  },
  {
   "cell_type": "code",
   "execution_count": 7,
   "id": "08214ac3-6256-47f9-b8e0-76969b65a8a0",
   "metadata": {},
   "outputs": [],
   "source": [
    "from qiskit import QuantumCircuit\n",
    "from qiskit.quantum_info import SparsePauliOp\n",
    "from qiskit_ibm_runtime import EstimatorV2 as Estimator\n",
    "from qiskit_aer import AerSimulator\n",
    "import matplotlib.pyplot as plt\n",
    "from qc_grader.challenges.iqc_2024 import grade_lab0_ex1"
   ]
  },
  {
   "cell_type": "markdown",
   "id": "34d58443-5d22-4e76-9b1f-67607be269c4",
   "metadata": {},
   "source": [
    "Generate a two-qubit Bell state using Qiskit patterns"
   ]
  },
  {
   "cell_type": "markdown",
   "id": "d537bdab-38e0-48c3-82e3-96006cd03136",
   "metadata": {},
   "source": [
    "##  Step 1: Map circuits and operators <a name=\"step-1\"></a>"
   ]
  },
  {
   "cell_type": "markdown",
   "id": "26ea3a1a-92cc-4f6c-9c12-a21c4b0b412b",
   "metadata": {},
   "source": [
    "Mapping your problem to circuits and operators is fairly easy when you're only dealing with a handful of qubits, but can get more difficult as you scale up. To start, we will construct a Bell state. This is a classic (*or should I say, \"quantum\"*) example that showcases entanglement between two qubits.\n",
    "\n",
    "First we apply a Hadamard gate to qubit 0, placing it in a superposition. Then we apply a CNOT gate between qubits 0 and 1. The CNOT effectively entangles our qubits, meaning that when we measure the output of this circuit we should expect to see that both qubits share a measurement result.\n",
    "\n",
    "If that made sense to you, nice job, you're ready to go. However, if that went over your head, the Challenge will be quite difficult for you. Instead, you may want to take this time to review the course on [Quantum Information and Computation](https://learning.quantum.ibm.com/course/basics-of-quantum-information/quantum-circuits)."
   ]
  },
  {
   "cell_type": "code",
   "execution_count": 8,
   "id": "355aea1d-4a4c-41f3-b0db-d5f7d7991a15",
   "metadata": {},
   "outputs": [
    {
     "data": {
      "image/png": "[encoded data removed]",
      "text/plain": [
       "<Figure size 287.294x200.667 with 1 Axes>"
      ]
     },
     "execution_count": 8,
     "metadata": {},
     "output_type": "execute_result"
    }
   ],
   "source": [
    "# Create a new circuit with two qubits\n",
    "qc = QuantumCircuit(2)\n",
    "# Add a Hadamard gate to qubit 0\n",
    "qc.h(0)\n",
    "# Perform a CNOT gate on qubit 1, controlled by qubit 0\n",
    "qc.cx(0, 1)\n",
    "# draw the circuit\n",
    "qc.draw(\"mpl\")"
   ]
  },
  {
   "cell_type": "markdown",
   "id": "19a61fc0-f2d1-41a2-8043-e646efe9f192",
   "metadata": {},
   "source": [
    "### Exercise 1 <a name=\"ex-1\"></a>\n",
    "<div class=\"alert alert-block alert-success\">\n",
    "\n",
    "Hey, look at us. Who would have thought — we made it to our first Challenge exercise!\n",
    "\n",
    "In this first exercise, you should complete the list of operators. We have provided three for you already: the `ZZ`, `ZI`, and `IX` observables. We've also written comments in the code explaining what each observable is looking for.\n",
    "\n",
    "**Following the same approach, your task is to create the last three operators:** `IZ`, `XX`, and `XI`\n",
    "\n",
    "</div>"
   ]
  },
  {
   "cell_type": "code",
   "execution_count": 9,
   "id": "e9687ad3-4349-4094-987d-2d13fc849aec",
   "metadata": {},
   "outputs": [],
   "source": [
    "# The ZZ applies a Z operator on qubit 0, and a Z operator on qubit 1\n",
    "ZZ = SparsePauliOp('ZZ')\n",
    "# The ZI applies a Z operator on qubit 0, and an Identity operator on qubit 1\n",
    "ZI = SparsePauliOp('ZI')\n",
    "# The IX applies an Identity operator on qubit 0, and an X operator on qubit 1\n",
    "IX = SparsePauliOp('IX')\n",
    "### Write your code below here ###\n",
    "# Rest of the observables\n",
    "IZ = SparsePauliOp('IZ')\n",
    "XI = SparsePauliOp('XI')\n",
    "XX = SparsePauliOp('XX')\n",
    "\n",
    "## Don't change any code past this line, but remember to run the cell.\n",
    "\n",
    "observables = [IZ, IX, ZI, XI, ZZ, XX]"
   ]
  },
  {
   "cell_type": "markdown",
   "id": "ac3c0c75-54b8-4088-a4f0-b72cd7bb6659",
   "metadata": {},
   "source": [
    "### The grader cell <a name=\"grader\"></a>\n",
    "\n",
    "Every exercise you complete in the IBM Quantum Challenge is followed by a grader cell. The grader takes the code from the exercise cell you just completed, and passes it to a hidden auto-grader. Sometimes it will simply tell you \"right\" or \"wrong.\" However, for more complex exercises, we include hints or suggestions. Each grader cell is unique to each exercise. Make sure you run all the code cells prior to running the grader.\n",
    "\n",
    "**You do not need to add any code into the grader cell. Simply run the grader cell to submit your answer.**\n",
    "\n",
    "Try it out below to see if you completed Exercise 1 properly."
   ]
  },
  {
   "cell_type": "code",
   "execution_count": 10,
   "id": "257c49af-478f-4f2f-8bcf-55e8c9c038ff",
   "metadata": {},
   "outputs": [
    {
     "name": "stdout",
     "output_type": "stream",
     "text": [
      "Submitting your answer. Please wait...\n",
      "Congratulations 🎉! Your answer is correct and has been submitted.\n"
     ]
    }
   ],
   "source": [
    "# Submit your answer using following code\n",
    "\n",
    "grade_lab0_ex1(observables)"
   ]
  },
  {
   "cell_type": "markdown",
   "id": "63510e9f-57af-451d-b551-15db1fcf5956",
   "metadata": {},
   "source": [
    "## Step 2: Optimize the circuit <a name=\"step-2\"></a>\n",
    "\n",
    "A Qiskit pattern is the best framework for working with a quantum computer at *utility scale* — the point where quantum computers can perform reliable computations at a scale beyond brute force classical computing methods. These computations can use hundreds of qubits. However, in this intro section, we're only using two qubits. So, that means we do not need to do any work here to optimize the circuit.\n",
    "\n",
    "To optimize the circuit, we can use the Qiskit transpiler. During transpilation, we can optimally layout our qubits to minimize the required number of gates, for example. You’ll learn more about this process in later labs. For now, you can move on to the next step of the pattern.\n",
    "\n",
    "## Step 3: Execute the circuit <a name=\"step-3\"></a>\n",
    "\n",
    "Time to run the circuit.\n",
    "\n",
    "In this next cell, you might notice something new. We are going to run the circuit using Qiskit Runtime.\n",
    "\n",
    "The next lab of the IBM Quantum Challenge covers Qiskit Runtime and the primitives in much greater detail. We won't talk about it too much in this lab other than to say that Qiskit Runtime gives us the easiest means of running our circuit.\n",
    "\n",
    "Here we run our circuit using the Estimator, then save the results as the variable `job`. You may now proceed to the next and final step of Qiskit patterns, where we will visualize this information."
   ]
  },
  {
   "cell_type": "code",
   "execution_count": 11,
   "id": "1670a809-f008-4994-84e3-7e37303d48db",
   "metadata": {},
   "outputs": [],
   "source": [
    "# Set up the Estimator\n",
    "estimator = Estimator(backend=AerSimulator())\n",
    "\n",
    "# Submit the circuit to Estimator\n",
    "pub = (qc, observables)\n",
    "\n",
    "job = estimator.run(pubs=[pub])"
   ]
  },
  {
   "cell_type": "markdown",
   "id": "9335f14c-c0d0-408c-bf91-c5f29458ec90",
   "metadata": {},
   "source": [
    "## Step 4: Post-process the results: collect our data and plot it on a graph\n",
    "\n",
    "The last step of Qiskit patterns is where we process, analyze, and visualize the results of our job.\n",
    "\n",
    "There are many ways you can choose to do this. We showcase a number of different options throughout the IBM Quantum Challenge. It's always a great day to learn something new!\n",
    "\n",
    "Here we are going to collect our data and plot it on a graph we construct."
   ]
  },
  {
   "cell_type": "code",
   "execution_count": 12,
   "id": "c75fa9fb-7b2b-4dce-a6a8-0a1951ef9c0d",
   "metadata": {},
   "outputs": [
    {
     "data": {
      "image/png": "[encoded data removed]",
      "text/plain": [
       "<Figure size 640x480 with 1 Axes>"
      ]
     },
     "metadata": {},
     "output_type": "display_data"
    }
   ],
   "source": [
    "# Collect the data\n",
    "data = ['IZ', 'IX', 'ZI', 'XI', 'ZZ', 'XX']\n",
    "values = job.result()[0].data.evs\n",
    "\n",
    "# Set up our graph\n",
    "container = plt.plot(data, values, '-o')\n",
    "# Label each axis\n",
    "plt.xlabel('Observables')\n",
    "plt.ylabel('Values')\n",
    "# Draw the final graph\n",
    "plt.show()"
   ]
  },
  {
   "cell_type": "code",
   "execution_count": 13,
   "id": "1441e0c8-195a-4308-8e1e-941a1e92061e",
   "metadata": {},
   "outputs": [
    {
     "data": {
      "image/png": "[encoded data removed]",
      "text/plain": [
       "<Figure size 640x480 with 1 Axes>"
      ]
     },
     "metadata": {},
     "output_type": "display_data"
    }
   ],
   "source": [
    "# The plot displays as a line graph, but you can also visualize this as a bar graph\n",
    "\n",
    "container = plt.bar(data, values, width=0.8)\n",
    "plt.xlabel('Observables')\n",
    "plt.ylabel('Values')\n",
    "plt.show()"
   ]
  },
  {
   "cell_type": "code",
   "execution_count": 19,
   "id": "93e1aea3-311d-4f2d-8d80-769ff5ecbd3e",
   "metadata": {},
   "outputs": [],
   "source": [
    "# The ZZ applies a Z operator on qubit 0, and a Z operator on qubit 1\n",
    "ZZ = SparsePauliOp('ZZ')\n",
    "# The ZI applies a Z operator on qubit 0, and an Identity operator on qubit 1\n",
    "ZI = SparsePauliOp('ZI')\n",
    "# The IX applies an Identity operator on qubit 0, and an X operator on qubit 1\n",
    "IX = SparsePauliOp('IX')\n",
    "### Write your code below here ###\n",
    "# Rest of the observables\n",
    "IZ = SparsePauliOp('IZ')\n",
    "XI = SparsePauliOp('XI')\n",
    "XX = SparsePauliOp('XX')\n",
    "IY = SparsePauliOp('IY')\n",
    "YI = SparsePauliOp('YI')\n",
    "YY = SparsePauliOp('YY')\n",
    "#\n",
    "observables_1 = [IZ, IX, ZI, XI, ZZ, XX, IY, YI, YY]"
   ]
  },
  {
   "cell_type": "code",
   "execution_count": 20,
   "id": "8456e2d6-a8be-4399-9113-e6b762ce2006",
   "metadata": {},
   "outputs": [],
   "source": [
    "# Set up the Estimator\n",
    "estimator = Estimator(backend=AerSimulator())\n",
    "\n",
    "# Submit the circuit to Estimator\n",
    "pub_1 = (qc, observables_1)\n",
    "\n",
    "job_1 = estimator.run(pubs=[pub_1])"
   ]
  },
  {
   "cell_type": "code",
   "execution_count": 22,
   "id": "497ace64-10af-4f72-8a27-3cbeb2486a27",
   "metadata": {},
   "outputs": [
    {
     "data": {
      "image/png": "[encoded data removed]",
      "text/plain": [
       "<Figure size 640x480 with 1 Axes>"
      ]
     },
     "metadata": {},
     "output_type": "display_data"
    }
   ],
   "source": [
    "# Collect the data\n",
    "data = ['IZ', 'IX', 'ZI', 'XI', 'ZZ', 'XX', 'IY', 'YI', 'YY']\n",
    "values_1 = job_1.result()[0].data.evs\n",
    "\n",
    "# Set up our graph\n",
    "container = plt.plot(data, values_1, '-o')\n",
    "# Label each axis\n",
    "plt.xlabel('Observables')\n",
    "plt.ylabel('Values')\n",
    "# Draw the final graph\n",
    "plt.show()"
   ]
  },
  {
   "cell_type": "markdown",
   "id": "290e50c0-e38f-4746-9e20-f27365d7cc91",
   "metadata": {},
   "source": [
    "# Congratulations! <a name=\"congrats\"></a>\n",
    "\n",
    "Congratulations on making it to the end of lab 0!\n",
    "\n",
    "You learned how to follow the workflow of Qiskit patterns to set up, optimize, run, and process your circuit. You successfully created a two-qubit Bell state, and showed that it was properly entangled by visualizing the operators. You learned how to use the auto-grader as well. Rock on!\n",
    "\n",
    "With the basics down, you’re now ready to begin thinking like a quantum developer. It’s a little different than thinking like a quantum physicist, though. We’re not just making discoveries about how the world works—we’re trying to use quantum mechanics as a tool to solve meaningful problems and enact positive change in the world.\n",
    "\n",
    "We like to say we’ve entered the era of quantum utility—for the first time, quantum computers can do things beyond the abilities of brute-force classical computing. Now, we’re looking for quantum advantage, where quantum computers are the best way to solve the problem. We need you, the quantum community for that—we need to uncover and implement quantum algorithms and apply them to real-world use cases. The rest of the challenge will be devoted to that—getting you to start thinking like a quantum developer.\n",
    "\n",
    "And of course, solving problems with real-world impact means thinking about who you’re impacting and how. At IBM we hold that we must research and develop technology responsibly. To that end, quantum computing and ethics experts at IBM have been researching the societal implications of quantum computing, and our role as a quantum computing provider in mitigating potentially undesired consequences of the technology. We encourage you to learn more by reading about our [Responsible Quantum Computing](https://www.ibm.com/quantum/blog/responsible-quantum) effort.\n",
    "\n",
    "You are now ready to move forward with the rest of the [IBM Quantum Challenge](https://challenges.quantum.ibm.com/2024). Good luck!"
   ]
  },
  {
   "cell_type": "code",
   "execution_count": null,
   "id": "b248a92c-3f73-47f5-a06a-588b3f2dbb8b",
   "metadata": {},
   "outputs": [],
   "source": []
  }
 ],
 "metadata": {
  "kernelspec": {
   "display_name": "Python 3 (ipykernel)",
   "language": "python",
   "name": "python3"
  },
  "language_info": {
   "codemirror_mode": {
    "name": "ipython",
    "version": 3
   },
   "file_extension": ".py",
   "mimetype": "text/x-python",
   "name": "python",
   "nbconvert_exporter": "python",
   "pygments_lexer": "ipython3",
   "version": "3.10.14"
  }
 },
 "nbformat": 4,
 "nbformat_minor": 5
}
